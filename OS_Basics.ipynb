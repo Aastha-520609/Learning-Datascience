{
 "cells": [
  {
   "cell_type": "code",
   "execution_count": 1,
   "id": "84d1df05",
   "metadata": {},
   "outputs": [],
   "source": [
    "import os"
   ]
  },
  {
   "cell_type": "code",
   "execution_count": 2,
   "id": "8bc1de36",
   "metadata": {},
   "outputs": [
    {
     "data": {
      "text/plain": [
       "'C:\\\\Users\\\\DELL\\\\Desktop\\\\Python'"
      ]
     },
     "execution_count": 2,
     "metadata": {},
     "output_type": "execute_result"
    }
   ],
   "source": [
    "os.getcwd()"
   ]
  },
  {
   "cell_type": "code",
   "execution_count": 3,
   "id": "39043254",
   "metadata": {},
   "outputs": [
    {
     "data": {
      "text/plain": [
       "'C:\\\\Users\\\\DELL\\\\Desktop\\\\Python'"
      ]
     },
     "execution_count": 3,
     "metadata": {},
     "output_type": "execute_result"
    }
   ],
   "source": [
    "pwd"
   ]
  },
  {
   "cell_type": "code",
   "execution_count": 4,
   "id": "b98b4dc0",
   "metadata": {},
   "outputs": [
    {
     "name": "stdout",
     "output_type": "stream",
     "text": [
      " Volume in drive C has no label.\n",
      " Volume Serial Number is 5638-79B5\n",
      "\n",
      " Directory of C:\\Users\\DELL\\Desktop\\Python\n",
      "\n",
      "07/11/2023  01:38 PM    <DIR>          .\n",
      "07/11/2023  01:38 PM    <DIR>          ..\n",
      "07/11/2023  01:38 PM    <DIR>          .ipynb_checkpoints\n",
      "07/02/2023  01:31 PM             2,225 data.txt\n",
      "07/02/2023  02:18 PM            14,575 dataReadingFromFile.ipynb\n",
      "06/28/2023  06:32 PM               867 firstNotebook.ipynb\n",
      "07/03/2023  11:13 PM                66 Inventory.txt\n",
      "07/04/2023  03:52 PM             3,836 InventoryManagement.ipynb\n",
      "07/07/2023  05:32 PM             5,966 InventoryManagementWithJSON.ipynb\n",
      "07/07/2023  05:32 PM                69 jsonSales.txt\n",
      "07/11/2023  01:38 PM                72 OS_Basics.ipynb\n",
      "07/07/2023  05:32 PM               192 Records.json\n",
      "07/04/2023  03:53 PM                 0 salesFile.txt\n",
      "              10 File(s)         27,868 bytes\n",
      "               3 Dir(s)  131,140,583,424 bytes free\n"
     ]
    }
   ],
   "source": [
    "ls"
   ]
  },
  {
   "cell_type": "code",
   "execution_count": 5,
   "id": "c0bb8d35",
   "metadata": {},
   "outputs": [
    {
     "data": {
      "text/plain": [
       "3"
      ]
     },
     "execution_count": 5,
     "metadata": {},
     "output_type": "execute_result"
    }
   ],
   "source": [
    "len(\"abc\")"
   ]
  },
  {
   "cell_type": "code",
   "execution_count": 7,
   "id": "1e2e90ed",
   "metadata": {
    "scrolled": true
   },
   "outputs": [
    {
     "data": {
      "text/plain": [
       "52"
      ]
     },
     "execution_count": 7,
     "metadata": {},
     "output_type": "execute_result"
    }
   ],
   "source": [
    "import sys\n",
    "sys.getsizeof(\"abc\")"
   ]
  }
 ],
 "metadata": {
  "kernelspec": {
   "display_name": "Python 3 (ipykernel)",
   "language": "python",
   "name": "python3"
  },
  "language_info": {
   "codemirror_mode": {
    "name": "ipython",
    "version": 3
   },
   "file_extension": ".py",
   "mimetype": "text/x-python",
   "name": "python",
   "nbconvert_exporter": "python",
   "pygments_lexer": "ipython3",
   "version": "3.10.9"
  }
 },
 "nbformat": 4,
 "nbformat_minor": 5
}
