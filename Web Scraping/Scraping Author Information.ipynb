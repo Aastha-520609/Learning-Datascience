{
 "cells": [
  {
   "cell_type": "code",
   "execution_count": 24,
   "id": "31829e94",
   "metadata": {},
   "outputs": [],
   "source": [
    "import requests\n",
    "import pandas as pd\n",
    "from tqdm import tqdm\n",
    "from bs4 import BeautifulSoup"
   ]
  },
  {
   "cell_type": "code",
   "execution_count": 25,
   "id": "f7a01ea5",
   "metadata": {},
   "outputs": [],
   "source": [
    "df = pd.read_csv(\"Quotes.csv\")"
   ]
  },
  {
   "cell_type": "code",
   "execution_count": 26,
   "id": "f1bdd7ff",
   "metadata": {},
   "outputs": [
    {
     "data": {
      "text/html": [
       "<div>\n",
       "<style scoped>\n",
       "    .dataframe tbody tr th:only-of-type {\n",
       "        vertical-align: middle;\n",
       "    }\n",
       "\n",
       "    .dataframe tbody tr th {\n",
       "        vertical-align: top;\n",
       "    }\n",
       "\n",
       "    .dataframe thead th {\n",
       "        text-align: right;\n",
       "    }\n",
       "</style>\n",
       "<table border=\"1\" class=\"dataframe\">\n",
       "  <thead>\n",
       "    <tr style=\"text-align: right;\">\n",
       "      <th></th>\n",
       "      <th>quote</th>\n",
       "      <th>author</th>\n",
       "      <th>author_id</th>\n",
       "      <th>tags</th>\n",
       "      <th>author_link</th>\n",
       "    </tr>\n",
       "  </thead>\n",
       "  <tbody>\n",
       "    <tr>\n",
       "      <th>0</th>\n",
       "      <td>The world as we have created it is a process o...</td>\n",
       "      <td>Albert Einstein</td>\n",
       "      <td>/author/Albert-Einstein</td>\n",
       "      <td>change,deep-thoughts,thinking,world</td>\n",
       "      <td>https://quotes.toscrape.com/author/Albert-Eins...</td>\n",
       "    </tr>\n",
       "    <tr>\n",
       "      <th>1</th>\n",
       "      <td>It is our choices, Harry, that show what we tr...</td>\n",
       "      <td>J.K. Rowling</td>\n",
       "      <td>/author/J-K-Rowling</td>\n",
       "      <td>abilities,choices</td>\n",
       "      <td>https://quotes.toscrape.com/author/J-K-Rowling</td>\n",
       "    </tr>\n",
       "    <tr>\n",
       "      <th>2</th>\n",
       "      <td>There are only two ways to live your life. One...</td>\n",
       "      <td>Albert Einstein</td>\n",
       "      <td>/author/Albert-Einstein</td>\n",
       "      <td>inspirational,life,live,miracle,miracles</td>\n",
       "      <td>https://quotes.toscrape.com/author/Albert-Eins...</td>\n",
       "    </tr>\n",
       "    <tr>\n",
       "      <th>3</th>\n",
       "      <td>The person, be it gentleman or lady, who has n...</td>\n",
       "      <td>Jane Austen</td>\n",
       "      <td>/author/Jane-Austen</td>\n",
       "      <td>aliteracy,books,classic,humor</td>\n",
       "      <td>https://quotes.toscrape.com/author/Jane-Austen</td>\n",
       "    </tr>\n",
       "    <tr>\n",
       "      <th>4</th>\n",
       "      <td>Imperfection is beauty, madness is genius and ...</td>\n",
       "      <td>Marilyn Monroe</td>\n",
       "      <td>/author/Marilyn-Monroe</td>\n",
       "      <td>be-yourself,inspirational</td>\n",
       "      <td>https://quotes.toscrape.com/author/Marilyn-Monroe</td>\n",
       "    </tr>\n",
       "  </tbody>\n",
       "</table>\n",
       "</div>"
      ],
      "text/plain": [
       "                                               quote           author  \\\n",
       "0  The world as we have created it is a process o...  Albert Einstein   \n",
       "1  It is our choices, Harry, that show what we tr...     J.K. Rowling   \n",
       "2  There are only two ways to live your life. One...  Albert Einstein   \n",
       "3  The person, be it gentleman or lady, who has n...      Jane Austen   \n",
       "4  Imperfection is beauty, madness is genius and ...   Marilyn Monroe   \n",
       "\n",
       "                 author_id                                      tags  \\\n",
       "0  /author/Albert-Einstein       change,deep-thoughts,thinking,world   \n",
       "1      /author/J-K-Rowling                         abilities,choices   \n",
       "2  /author/Albert-Einstein  inspirational,life,live,miracle,miracles   \n",
       "3      /author/Jane-Austen             aliteracy,books,classic,humor   \n",
       "4   /author/Marilyn-Monroe                 be-yourself,inspirational   \n",
       "\n",
       "                                         author_link  \n",
       "0  https://quotes.toscrape.com/author/Albert-Eins...  \n",
       "1     https://quotes.toscrape.com/author/J-K-Rowling  \n",
       "2  https://quotes.toscrape.com/author/Albert-Eins...  \n",
       "3     https://quotes.toscrape.com/author/Jane-Austen  \n",
       "4  https://quotes.toscrape.com/author/Marilyn-Monroe  "
      ]
     },
     "execution_count": 26,
     "metadata": {},
     "output_type": "execute_result"
    }
   ],
   "source": [
    "df.head()"
   ]
  },
  {
   "cell_type": "code",
   "execution_count": 27,
   "id": "ebaa2199",
   "metadata": {},
   "outputs": [],
   "source": [
    "del df['quote']\n",
    "del df['author_id']\n",
    "del df['tags']"
   ]
  },
  {
   "cell_type": "code",
   "execution_count": 28,
   "id": "d7c02420",
   "metadata": {},
   "outputs": [],
   "source": [
    "df = df.drop_duplicates()"
   ]
  },
  {
   "cell_type": "code",
   "execution_count": 29,
   "id": "e0c0290b",
   "metadata": {},
   "outputs": [
    {
     "data": {
      "text/html": [
       "<div>\n",
       "<style scoped>\n",
       "    .dataframe tbody tr th:only-of-type {\n",
       "        vertical-align: middle;\n",
       "    }\n",
       "\n",
       "    .dataframe tbody tr th {\n",
       "        vertical-align: top;\n",
       "    }\n",
       "\n",
       "    .dataframe thead th {\n",
       "        text-align: right;\n",
       "    }\n",
       "</style>\n",
       "<table border=\"1\" class=\"dataframe\">\n",
       "  <thead>\n",
       "    <tr style=\"text-align: right;\">\n",
       "      <th></th>\n",
       "      <th>author</th>\n",
       "      <th>author_link</th>\n",
       "    </tr>\n",
       "  </thead>\n",
       "  <tbody>\n",
       "    <tr>\n",
       "      <th>0</th>\n",
       "      <td>Albert Einstein</td>\n",
       "      <td>https://quotes.toscrape.com/author/Albert-Eins...</td>\n",
       "    </tr>\n",
       "    <tr>\n",
       "      <th>1</th>\n",
       "      <td>J.K. Rowling</td>\n",
       "      <td>https://quotes.toscrape.com/author/J-K-Rowling</td>\n",
       "    </tr>\n",
       "    <tr>\n",
       "      <th>3</th>\n",
       "      <td>Jane Austen</td>\n",
       "      <td>https://quotes.toscrape.com/author/Jane-Austen</td>\n",
       "    </tr>\n",
       "    <tr>\n",
       "      <th>4</th>\n",
       "      <td>Marilyn Monroe</td>\n",
       "      <td>https://quotes.toscrape.com/author/Marilyn-Monroe</td>\n",
       "    </tr>\n",
       "    <tr>\n",
       "      <th>6</th>\n",
       "      <td>André Gide</td>\n",
       "      <td>https://quotes.toscrape.com/author/Andre-Gide</td>\n",
       "    </tr>\n",
       "    <tr>\n",
       "      <th>7</th>\n",
       "      <td>Thomas A. Edison</td>\n",
       "      <td>https://quotes.toscrape.com/author/Thomas-A-Ed...</td>\n",
       "    </tr>\n",
       "    <tr>\n",
       "      <th>8</th>\n",
       "      <td>Eleanor Roosevelt</td>\n",
       "      <td>https://quotes.toscrape.com/author/Eleanor-Roo...</td>\n",
       "    </tr>\n",
       "    <tr>\n",
       "      <th>9</th>\n",
       "      <td>Steve Martin</td>\n",
       "      <td>https://quotes.toscrape.com/author/Steve-Martin</td>\n",
       "    </tr>\n",
       "  </tbody>\n",
       "</table>\n",
       "</div>"
      ],
      "text/plain": [
       "              author                                        author_link\n",
       "0    Albert Einstein  https://quotes.toscrape.com/author/Albert-Eins...\n",
       "1       J.K. Rowling     https://quotes.toscrape.com/author/J-K-Rowling\n",
       "3        Jane Austen     https://quotes.toscrape.com/author/Jane-Austen\n",
       "4     Marilyn Monroe  https://quotes.toscrape.com/author/Marilyn-Monroe\n",
       "6         André Gide      https://quotes.toscrape.com/author/Andre-Gide\n",
       "7   Thomas A. Edison  https://quotes.toscrape.com/author/Thomas-A-Ed...\n",
       "8  Eleanor Roosevelt  https://quotes.toscrape.com/author/Eleanor-Roo...\n",
       "9       Steve Martin    https://quotes.toscrape.com/author/Steve-Martin"
      ]
     },
     "execution_count": 29,
     "metadata": {},
     "output_type": "execute_result"
    }
   ],
   "source": [
    "df"
   ]
  },
  {
   "cell_type": "code",
   "execution_count": 37,
   "id": "1b16170a",
   "metadata": {},
   "outputs": [
    {
     "name": "stdout",
     "output_type": "stream",
     "text": [
      "Saved details for author Albert Einstein\n",
      "Saved details for author J.K. Rowling\n",
      "Saved details for author Jane Austen\n",
      "Saved details for author Marilyn Monroe\n",
      "Saved details for author André Gide\n",
      "Saved details for author Thomas A. Edison\n",
      "Saved details for author Eleanor Roosevelt\n",
      "Saved details for author Steve Martin\n"
     ]
    }
   ],
   "source": [
    "for author in df.values:\n",
    "    name = 'Authors/' + author[0] + '.txt'\n",
    "    link = author[1]\n",
    "    \n",
    "    try:\n",
    "        res = requests.get(link)\n",
    "        res.raise_for_status()\n",
    "        \n",
    "        soup = BeautifulSoup(res.text, 'html.parser')\n",
    "    \n",
    "        text = soup.find('div', class_ = 'author-details').text\n",
    "    \n",
    "        #placing the details of author in a text file\n",
    "        with open(name, 'w', encoding = 'utf-8') as fd:\n",
    "             fd.write(text)\n",
    "        \n",
    "        print(f\"Saved details for author {author[0]}\")\n",
    "        \n",
    "    except requests.exceptions.RequestException as e:\n",
    "        print(f\"Error fetching details for author {author[0]}: {e}\")\n",
    "    except Exception as e:\n",
    "        print(f\"An error occurred for author {author[0]}: {e}\")    "
   ]
  },
  {
   "cell_type": "code",
   "execution_count": null,
   "id": "a3c86b17",
   "metadata": {},
   "outputs": [],
   "source": []
  }
 ],
 "metadata": {
  "kernelspec": {
   "display_name": "Python 3 (ipykernel)",
   "language": "python",
   "name": "python3"
  },
  "language_info": {
   "codemirror_mode": {
    "name": "ipython",
    "version": 3
   },
   "file_extension": ".py",
   "mimetype": "text/x-python",
   "name": "python",
   "nbconvert_exporter": "python",
   "pygments_lexer": "ipython3",
   "version": "3.10.9"
  }
 },
 "nbformat": 4,
 "nbformat_minor": 5
}
