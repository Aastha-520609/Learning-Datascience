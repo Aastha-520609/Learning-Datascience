{
 "cells": [
  {
   "cell_type": "code",
   "execution_count": 7,
   "id": "dff7002e",
   "metadata": {},
   "outputs": [],
   "source": [
    "import pandas as pd\n",
    "import requests\n",
    "from tqdm import tqdm\n",
    "from bs4 import BeautifulSoup"
   ]
  },
  {
   "cell_type": "code",
   "execution_count": 8,
   "id": "d635d978",
   "metadata": {},
   "outputs": [
    {
     "data": {
      "text/html": [
       "<div>\n",
       "<style scoped>\n",
       "    .dataframe tbody tr th:only-of-type {\n",
       "        vertical-align: middle;\n",
       "    }\n",
       "\n",
       "    .dataframe tbody tr th {\n",
       "        vertical-align: top;\n",
       "    }\n",
       "\n",
       "    .dataframe thead th {\n",
       "        text-align: right;\n",
       "    }\n",
       "</style>\n",
       "<table border=\"1\" class=\"dataframe\">\n",
       "  <thead>\n",
       "    <tr style=\"text-align: right;\">\n",
       "      <th></th>\n",
       "      <th>Unnamed: 0</th>\n",
       "      <th>title</th>\n",
       "      <th>rating</th>\n",
       "      <th>price</th>\n",
       "      <th>Availablity</th>\n",
       "      <th>book_link</th>\n",
       "      <th>img_link</th>\n",
       "    </tr>\n",
       "  </thead>\n",
       "  <tbody>\n",
       "    <tr>\n",
       "      <th>0</th>\n",
       "      <td>0</td>\n",
       "      <td>A Light in the Attic</td>\n",
       "      <td>Three</td>\n",
       "      <td>51.77</td>\n",
       "      <td>In stock</td>\n",
       "      <td>https://books.toscrape.com/catalogue/a-light-i...</td>\n",
       "      <td>https://books.toscrape.com/media/cache/2c/da/2...</td>\n",
       "    </tr>\n",
       "    <tr>\n",
       "      <th>1</th>\n",
       "      <td>1</td>\n",
       "      <td>Tipping the Velvet</td>\n",
       "      <td>One</td>\n",
       "      <td>53.74</td>\n",
       "      <td>In stock</td>\n",
       "      <td>https://books.toscrape.com/catalogue/tipping-t...</td>\n",
       "      <td>https://books.toscrape.com/media/cache/26/0c/2...</td>\n",
       "    </tr>\n",
       "    <tr>\n",
       "      <th>2</th>\n",
       "      <td>2</td>\n",
       "      <td>Soumission</td>\n",
       "      <td>One</td>\n",
       "      <td>50.10</td>\n",
       "      <td>In stock</td>\n",
       "      <td>https://books.toscrape.com/catalogue/soumissio...</td>\n",
       "      <td>https://books.toscrape.com/media/cache/3e/ef/3...</td>\n",
       "    </tr>\n",
       "    <tr>\n",
       "      <th>3</th>\n",
       "      <td>3</td>\n",
       "      <td>Sharp Objects</td>\n",
       "      <td>Four</td>\n",
       "      <td>47.82</td>\n",
       "      <td>In stock</td>\n",
       "      <td>https://books.toscrape.com/catalogue/sharp-obj...</td>\n",
       "      <td>https://books.toscrape.com/media/cache/32/51/3...</td>\n",
       "    </tr>\n",
       "    <tr>\n",
       "      <th>4</th>\n",
       "      <td>4</td>\n",
       "      <td>Sapiens: A Brief History of Humankind</td>\n",
       "      <td>Five</td>\n",
       "      <td>54.23</td>\n",
       "      <td>In stock</td>\n",
       "      <td>https://books.toscrape.com/catalogue/sapiens-a...</td>\n",
       "      <td>https://books.toscrape.com/media/cache/be/a5/b...</td>\n",
       "    </tr>\n",
       "  </tbody>\n",
       "</table>\n",
       "</div>"
      ],
      "text/plain": [
       "   Unnamed: 0                                  title rating  price  \\\n",
       "0           0                   A Light in the Attic  Three  51.77   \n",
       "1           1                     Tipping the Velvet    One  53.74   \n",
       "2           2                             Soumission    One  50.10   \n",
       "3           3                          Sharp Objects   Four  47.82   \n",
       "4           4  Sapiens: A Brief History of Humankind   Five  54.23   \n",
       "\n",
       "  Availablity                                          book_link  \\\n",
       "0    In stock  https://books.toscrape.com/catalogue/a-light-i...   \n",
       "1    In stock  https://books.toscrape.com/catalogue/tipping-t...   \n",
       "2    In stock  https://books.toscrape.com/catalogue/soumissio...   \n",
       "3    In stock  https://books.toscrape.com/catalogue/sharp-obj...   \n",
       "4    In stock  https://books.toscrape.com/catalogue/sapiens-a...   \n",
       "\n",
       "                                            img_link  \n",
       "0  https://books.toscrape.com/media/cache/2c/da/2...  \n",
       "1  https://books.toscrape.com/media/cache/26/0c/2...  \n",
       "2  https://books.toscrape.com/media/cache/3e/ef/3...  \n",
       "3  https://books.toscrape.com/media/cache/32/51/3...  \n",
       "4  https://books.toscrape.com/media/cache/be/a5/b...  "
      ]
     },
     "execution_count": 8,
     "metadata": {},
     "output_type": "execute_result"
    }
   ],
   "source": [
    "df = pd.read_csv(\"books.csv\")\n",
    "df.head()"
   ]
  },
  {
   "cell_type": "code",
   "execution_count": 3,
   "id": "2489ca36",
   "metadata": {},
   "outputs": [
    {
     "name": "stderr",
     "output_type": "stream",
     "text": [
      "100%|██████████| 1000/1000 [20:51<00:00,  1.25s/it]\n"
     ]
    }
   ],
   "source": [
    "data = []\n",
    "\n",
    "for link in tqdm(df['book_link']):\n",
    "    \n",
    "    response = requests.get(link)\n",
    "    soup = BeautifulSoup(response.text, 'html.parser')\n",
    "    \n",
    "    book_typ = soup.find('ul', class_ = \"breadcrumb\").find_all('a')[2].text\n",
    "    \n",
    "    upc = soup.find('table', class_ = \"table table-striped\").find_all('td')[0].text\n",
    "    price_x = soup.find('table', class_ = \"table table-striped\").find_all('td')[2].text[2:]\n",
    "    price_i = soup.find('table', class_ = \"table table-striped\").find_all('td')[3].text[2:]\n",
    "    tax = soup.find('table', class_ = \"table table-striped\").find_all('td')[4].text[2:]\n",
    "    available_qn = soup.find('table', class_ = \"table table-striped\").find_all('td')[5].text\n",
    "    reviews = soup.find('table', class_ = \"table table-striped\").find_all('td')[6].text\n",
    "    \n",
    "    data.append([book_typ, price_x, price_i, tax, available_qn, upc, reviews])"
   ]
  },
  {
   "cell_type": "code",
   "execution_count": 15,
   "id": "6f423f1d",
   "metadata": {},
   "outputs": [],
   "source": [
    "df = pd.DataFrame(data, columns = ['category', 'price_ex_tax', 'price_in_tax', 'tax', 'quantity', 'upc', 'reviews'])"
   ]
  },
  {
   "cell_type": "code",
   "execution_count": 16,
   "id": "4f131e15",
   "metadata": {},
   "outputs": [
    {
     "data": {
      "text/html": [
       "<div>\n",
       "<style scoped>\n",
       "    .dataframe tbody tr th:only-of-type {\n",
       "        vertical-align: middle;\n",
       "    }\n",
       "\n",
       "    .dataframe tbody tr th {\n",
       "        vertical-align: top;\n",
       "    }\n",
       "\n",
       "    .dataframe thead th {\n",
       "        text-align: right;\n",
       "    }\n",
       "</style>\n",
       "<table border=\"1\" class=\"dataframe\">\n",
       "  <thead>\n",
       "    <tr style=\"text-align: right;\">\n",
       "      <th></th>\n",
       "      <th>category</th>\n",
       "      <th>price_ex_tax</th>\n",
       "      <th>price_in_tax</th>\n",
       "      <th>tax</th>\n",
       "      <th>quantity</th>\n",
       "      <th>upc</th>\n",
       "      <th>reviews</th>\n",
       "    </tr>\n",
       "  </thead>\n",
       "  <tbody>\n",
       "    <tr>\n",
       "      <th>0</th>\n",
       "      <td>Poetry</td>\n",
       "      <td>51.77</td>\n",
       "      <td>51.77</td>\n",
       "      <td>0.00</td>\n",
       "      <td>In stock (22 available)</td>\n",
       "      <td>a897fe39b1053632</td>\n",
       "      <td>0</td>\n",
       "    </tr>\n",
       "    <tr>\n",
       "      <th>1</th>\n",
       "      <td>Historical Fiction</td>\n",
       "      <td>53.74</td>\n",
       "      <td>53.74</td>\n",
       "      <td>0.00</td>\n",
       "      <td>In stock (20 available)</td>\n",
       "      <td>90fa61229261140a</td>\n",
       "      <td>0</td>\n",
       "    </tr>\n",
       "    <tr>\n",
       "      <th>2</th>\n",
       "      <td>Fiction</td>\n",
       "      <td>50.10</td>\n",
       "      <td>50.10</td>\n",
       "      <td>0.00</td>\n",
       "      <td>In stock (20 available)</td>\n",
       "      <td>6957f44c3847a760</td>\n",
       "      <td>0</td>\n",
       "    </tr>\n",
       "    <tr>\n",
       "      <th>3</th>\n",
       "      <td>Mystery</td>\n",
       "      <td>47.82</td>\n",
       "      <td>47.82</td>\n",
       "      <td>0.00</td>\n",
       "      <td>In stock (20 available)</td>\n",
       "      <td>e00eb4fd7b871a48</td>\n",
       "      <td>0</td>\n",
       "    </tr>\n",
       "    <tr>\n",
       "      <th>4</th>\n",
       "      <td>History</td>\n",
       "      <td>54.23</td>\n",
       "      <td>54.23</td>\n",
       "      <td>0.00</td>\n",
       "      <td>In stock (20 available)</td>\n",
       "      <td>4165285e1663650f</td>\n",
       "      <td>0</td>\n",
       "    </tr>\n",
       "  </tbody>\n",
       "</table>\n",
       "</div>"
      ],
      "text/plain": [
       "             category price_ex_tax price_in_tax   tax  \\\n",
       "0              Poetry        51.77        51.77  0.00   \n",
       "1  Historical Fiction        53.74        53.74  0.00   \n",
       "2             Fiction        50.10        50.10  0.00   \n",
       "3             Mystery        47.82        47.82  0.00   \n",
       "4             History        54.23        54.23  0.00   \n",
       "\n",
       "                  quantity               upc reviews  \n",
       "0  In stock (22 available)  a897fe39b1053632       0  \n",
       "1  In stock (20 available)  90fa61229261140a       0  \n",
       "2  In stock (20 available)  6957f44c3847a760       0  \n",
       "3  In stock (20 available)  e00eb4fd7b871a48       0  \n",
       "4  In stock (20 available)  4165285e1663650f       0  "
      ]
     },
     "execution_count": 16,
     "metadata": {},
     "output_type": "execute_result"
    }
   ],
   "source": [
    "df.head()"
   ]
  },
  {
   "cell_type": "code",
   "execution_count": 17,
   "id": "4c039750",
   "metadata": {},
   "outputs": [],
   "source": [
    "df.to_csv('data.csv', index = False)"
   ]
  },
  {
   "cell_type": "code",
   "execution_count": 14,
   "id": "5234c95b",
   "metadata": {},
   "outputs": [
    {
     "data": {
      "text/plain": [
       "'26.08'"
      ]
     },
     "execution_count": 14,
     "metadata": {},
     "output_type": "execute_result"
    }
   ],
   "source": [
    "price_i"
   ]
  },
  {
   "cell_type": "code",
   "execution_count": 20,
   "id": "b3c604b0",
   "metadata": {},
   "outputs": [
    {
     "data": {
      "text/plain": [
       "'0.00'"
      ]
     },
     "execution_count": 20,
     "metadata": {},
     "output_type": "execute_result"
    }
   ],
   "source": [
    "tax"
   ]
  },
  {
   "cell_type": "code",
   "execution_count": 26,
   "id": "d093a5d8",
   "metadata": {},
   "outputs": [
    {
     "data": {
      "text/plain": [
       "'In stock (22 available)'"
      ]
     },
     "execution_count": 26,
     "metadata": {},
     "output_type": "execute_result"
    }
   ],
   "source": [
    "available_qn"
   ]
  },
  {
   "cell_type": "code",
   "execution_count": 24,
   "id": "8adaac23",
   "metadata": {},
   "outputs": [
    {
     "data": {
      "text/plain": [
       "'0'"
      ]
     },
     "execution_count": 24,
     "metadata": {},
     "output_type": "execute_result"
    }
   ],
   "source": [
    "reviews"
   ]
  },
  {
   "cell_type": "code",
   "execution_count": null,
   "id": "7a23830c",
   "metadata": {},
   "outputs": [],
   "source": []
  }
 ],
 "metadata": {
  "kernelspec": {
   "display_name": "Python 3 (ipykernel)",
   "language": "python",
   "name": "python3"
  },
  "language_info": {
   "codemirror_mode": {
    "name": "ipython",
    "version": 3
   },
   "file_extension": ".py",
   "mimetype": "text/x-python",
   "name": "python",
   "nbconvert_exporter": "python",
   "pygments_lexer": "ipython3",
   "version": "3.10.9"
  }
 },
 "nbformat": 4,
 "nbformat_minor": 5
}
