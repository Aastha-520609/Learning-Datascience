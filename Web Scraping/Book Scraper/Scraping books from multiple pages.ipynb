{
 "cells": [
  {
   "cell_type": "code",
   "execution_count": 11,
   "id": "299484ed",
   "metadata": {},
   "outputs": [],
   "source": [
    "import requests\n",
    "import pandas as pd\n",
    "from bs4 import BeautifulSoup\n",
    "from tqdm import tqdm"
   ]
  },
  {
   "cell_type": "code",
   "execution_count": 7,
   "id": "545df65c",
   "metadata": {},
   "outputs": [
    {
     "name": "stderr",
     "output_type": "stream",
     "text": [
      "100%|██████████| 50/50 [01:42<00:00,  2.06s/it]\n"
     ]
    }
   ],
   "source": [
    "data = []\n",
    "\n",
    "for i in tqdm(range(1,51)):\n",
    "    \n",
    "    link = \"https://books.toscrape.com/catalogue/page-\" + str(i)+ \".html\"\n",
    "    \n",
    "    res = requests.get(link)\n",
    "    soup = BeautifulSoup(res.text, 'html.parser')\n",
    "    \n",
    "    for sp in soup.find_all('li', class_ = 'col-xs-6 col-sm-4 col-md-3 col-lg-3'):\n",
    "    \n",
    "        img_link = \"https://books.toscrape.com/\" + sp.find('img').get('src')[3:]\n",
    "        book_link = \"https://books.toscrape.com/catalogue/\" + sp.find_all('a')[-1].get('href')\n",
    "        title = sp.find_all('a')[-1].get('title')\n",
    "        rating = sp.find('p').get('class')[-1]\n",
    "        price = sp.find('p', class_ = 'price_color').text[2:]\n",
    "        available = sp.find('p', class_ = 'instock availability').text.strip()\n",
    "    \n",
    "        data.append([title, rating, price, available, book_link, img_link])"
   ]
  },
  {
   "cell_type": "code",
   "execution_count": 8,
   "id": "b9c50027",
   "metadata": {},
   "outputs": [
    {
     "data": {
      "text/plain": [
       "['A Light in the Attic',\n",
       " 'Three',\n",
       " '51.77',\n",
       " 'In stock',\n",
       " 'https://books.toscrape.com/catalogue/a-light-in-the-attic_1000/index.html',\n",
       " 'https://books.toscrape.com/media/cache/2c/da/2cdad67c44b002e7ead0cc35693c0e8b.jpg']"
      ]
     },
     "execution_count": 8,
     "metadata": {},
     "output_type": "execute_result"
    }
   ],
   "source": [
    "data[0]"
   ]
  },
  {
   "cell_type": "code",
   "execution_count": 9,
   "id": "28b0c5d7",
   "metadata": {},
   "outputs": [
    {
     "data": {
      "text/plain": [
       "['1,000 Places to See Before You Die',\n",
       " 'Five',\n",
       " '26.08',\n",
       " 'In stock',\n",
       " 'https://books.toscrape.com/catalogue/1000-places-to-see-before-you-die_1/index.html',\n",
       " 'https://books.toscrape.com/media/cache/d7/0f/d70f7edd92705c45a82118c3ff6c299d.jpg']"
      ]
     },
     "execution_count": 9,
     "metadata": {},
     "output_type": "execute_result"
    }
   ],
   "source": [
    "data[-1]"
   ]
  },
  {
   "cell_type": "code",
   "execution_count": 12,
   "id": "4a11842c",
   "metadata": {},
   "outputs": [],
   "source": [
    "df = pd.DataFrame(data, columns = ['title', 'rating', 'price', 'Availablity', 'book_link','img_link'])"
   ]
  },
  {
   "cell_type": "code",
   "execution_count": 13,
   "id": "b61651cc",
   "metadata": {},
   "outputs": [
    {
     "data": {
      "text/html": [
       "<div>\n",
       "<style scoped>\n",
       "    .dataframe tbody tr th:only-of-type {\n",
       "        vertical-align: middle;\n",
       "    }\n",
       "\n",
       "    .dataframe tbody tr th {\n",
       "        vertical-align: top;\n",
       "    }\n",
       "\n",
       "    .dataframe thead th {\n",
       "        text-align: right;\n",
       "    }\n",
       "</style>\n",
       "<table border=\"1\" class=\"dataframe\">\n",
       "  <thead>\n",
       "    <tr style=\"text-align: right;\">\n",
       "      <th></th>\n",
       "      <th>title</th>\n",
       "      <th>rating</th>\n",
       "      <th>price</th>\n",
       "      <th>Availablity</th>\n",
       "      <th>book_link</th>\n",
       "      <th>img_link</th>\n",
       "    </tr>\n",
       "  </thead>\n",
       "  <tbody>\n",
       "    <tr>\n",
       "      <th>0</th>\n",
       "      <td>A Light in the Attic</td>\n",
       "      <td>Three</td>\n",
       "      <td>51.77</td>\n",
       "      <td>In stock</td>\n",
       "      <td>https://books.toscrape.com/catalogue/a-light-i...</td>\n",
       "      <td>https://books.toscrape.com/media/cache/2c/da/2...</td>\n",
       "    </tr>\n",
       "    <tr>\n",
       "      <th>1</th>\n",
       "      <td>Tipping the Velvet</td>\n",
       "      <td>One</td>\n",
       "      <td>53.74</td>\n",
       "      <td>In stock</td>\n",
       "      <td>https://books.toscrape.com/catalogue/tipping-t...</td>\n",
       "      <td>https://books.toscrape.com/media/cache/26/0c/2...</td>\n",
       "    </tr>\n",
       "    <tr>\n",
       "      <th>2</th>\n",
       "      <td>Soumission</td>\n",
       "      <td>One</td>\n",
       "      <td>50.10</td>\n",
       "      <td>In stock</td>\n",
       "      <td>https://books.toscrape.com/catalogue/soumissio...</td>\n",
       "      <td>https://books.toscrape.com/media/cache/3e/ef/3...</td>\n",
       "    </tr>\n",
       "    <tr>\n",
       "      <th>3</th>\n",
       "      <td>Sharp Objects</td>\n",
       "      <td>Four</td>\n",
       "      <td>47.82</td>\n",
       "      <td>In stock</td>\n",
       "      <td>https://books.toscrape.com/catalogue/sharp-obj...</td>\n",
       "      <td>https://books.toscrape.com/media/cache/32/51/3...</td>\n",
       "    </tr>\n",
       "    <tr>\n",
       "      <th>4</th>\n",
       "      <td>Sapiens: A Brief History of Humankind</td>\n",
       "      <td>Five</td>\n",
       "      <td>54.23</td>\n",
       "      <td>In stock</td>\n",
       "      <td>https://books.toscrape.com/catalogue/sapiens-a...</td>\n",
       "      <td>https://books.toscrape.com/media/cache/be/a5/b...</td>\n",
       "    </tr>\n",
       "    <tr>\n",
       "      <th>...</th>\n",
       "      <td>...</td>\n",
       "      <td>...</td>\n",
       "      <td>...</td>\n",
       "      <td>...</td>\n",
       "      <td>...</td>\n",
       "      <td>...</td>\n",
       "    </tr>\n",
       "    <tr>\n",
       "      <th>995</th>\n",
       "      <td>Alice in Wonderland (Alice's Adventures in Won...</td>\n",
       "      <td>One</td>\n",
       "      <td>55.53</td>\n",
       "      <td>In stock</td>\n",
       "      <td>https://books.toscrape.com/catalogue/alice-in-...</td>\n",
       "      <td>https://books.toscrape.com/media/cache/96/ee/9...</td>\n",
       "    </tr>\n",
       "    <tr>\n",
       "      <th>996</th>\n",
       "      <td>Ajin: Demi-Human, Volume 1 (Ajin: Demi-Human #1)</td>\n",
       "      <td>Four</td>\n",
       "      <td>57.06</td>\n",
       "      <td>In stock</td>\n",
       "      <td>https://books.toscrape.com/catalogue/ajin-demi...</td>\n",
       "      <td>https://books.toscrape.com/media/cache/09/7c/0...</td>\n",
       "    </tr>\n",
       "    <tr>\n",
       "      <th>997</th>\n",
       "      <td>A Spy's Devotion (The Regency Spies of London #1)</td>\n",
       "      <td>Five</td>\n",
       "      <td>16.97</td>\n",
       "      <td>In stock</td>\n",
       "      <td>https://books.toscrape.com/catalogue/a-spys-de...</td>\n",
       "      <td>https://books.toscrape.com/media/cache/1b/5f/1...</td>\n",
       "    </tr>\n",
       "    <tr>\n",
       "      <th>998</th>\n",
       "      <td>1st to Die (Women's Murder Club #1)</td>\n",
       "      <td>One</td>\n",
       "      <td>53.98</td>\n",
       "      <td>In stock</td>\n",
       "      <td>https://books.toscrape.com/catalogue/1st-to-di...</td>\n",
       "      <td>https://books.toscrape.com/media/cache/2b/41/2...</td>\n",
       "    </tr>\n",
       "    <tr>\n",
       "      <th>999</th>\n",
       "      <td>1,000 Places to See Before You Die</td>\n",
       "      <td>Five</td>\n",
       "      <td>26.08</td>\n",
       "      <td>In stock</td>\n",
       "      <td>https://books.toscrape.com/catalogue/1000-plac...</td>\n",
       "      <td>https://books.toscrape.com/media/cache/d7/0f/d...</td>\n",
       "    </tr>\n",
       "  </tbody>\n",
       "</table>\n",
       "<p>1000 rows × 6 columns</p>\n",
       "</div>"
      ],
      "text/plain": [
       "                                                 title rating  price  \\\n",
       "0                                 A Light in the Attic  Three  51.77   \n",
       "1                                   Tipping the Velvet    One  53.74   \n",
       "2                                           Soumission    One  50.10   \n",
       "3                                        Sharp Objects   Four  47.82   \n",
       "4                Sapiens: A Brief History of Humankind   Five  54.23   \n",
       "..                                                 ...    ...    ...   \n",
       "995  Alice in Wonderland (Alice's Adventures in Won...    One  55.53   \n",
       "996   Ajin: Demi-Human, Volume 1 (Ajin: Demi-Human #1)   Four  57.06   \n",
       "997  A Spy's Devotion (The Regency Spies of London #1)   Five  16.97   \n",
       "998                1st to Die (Women's Murder Club #1)    One  53.98   \n",
       "999                 1,000 Places to See Before You Die   Five  26.08   \n",
       "\n",
       "    Availablity                                          book_link  \\\n",
       "0      In stock  https://books.toscrape.com/catalogue/a-light-i...   \n",
       "1      In stock  https://books.toscrape.com/catalogue/tipping-t...   \n",
       "2      In stock  https://books.toscrape.com/catalogue/soumissio...   \n",
       "3      In stock  https://books.toscrape.com/catalogue/sharp-obj...   \n",
       "4      In stock  https://books.toscrape.com/catalogue/sapiens-a...   \n",
       "..          ...                                                ...   \n",
       "995    In stock  https://books.toscrape.com/catalogue/alice-in-...   \n",
       "996    In stock  https://books.toscrape.com/catalogue/ajin-demi...   \n",
       "997    In stock  https://books.toscrape.com/catalogue/a-spys-de...   \n",
       "998    In stock  https://books.toscrape.com/catalogue/1st-to-di...   \n",
       "999    In stock  https://books.toscrape.com/catalogue/1000-plac...   \n",
       "\n",
       "                                              img_link  \n",
       "0    https://books.toscrape.com/media/cache/2c/da/2...  \n",
       "1    https://books.toscrape.com/media/cache/26/0c/2...  \n",
       "2    https://books.toscrape.com/media/cache/3e/ef/3...  \n",
       "3    https://books.toscrape.com/media/cache/32/51/3...  \n",
       "4    https://books.toscrape.com/media/cache/be/a5/b...  \n",
       "..                                                 ...  \n",
       "995  https://books.toscrape.com/media/cache/96/ee/9...  \n",
       "996  https://books.toscrape.com/media/cache/09/7c/0...  \n",
       "997  https://books.toscrape.com/media/cache/1b/5f/1...  \n",
       "998  https://books.toscrape.com/media/cache/2b/41/2...  \n",
       "999  https://books.toscrape.com/media/cache/d7/0f/d...  \n",
       "\n",
       "[1000 rows x 6 columns]"
      ]
     },
     "execution_count": 13,
     "metadata": {},
     "output_type": "execute_result"
    }
   ],
   "source": [
    "df"
   ]
  },
  {
   "cell_type": "code",
   "execution_count": 14,
   "id": "1b43a706",
   "metadata": {},
   "outputs": [],
   "source": [
    "df.to_csv('books.csv')"
   ]
  },
  {
   "cell_type": "code",
   "execution_count": null,
   "id": "9a1d19c4",
   "metadata": {},
   "outputs": [],
   "source": []
  }
 ],
 "metadata": {
  "kernelspec": {
   "display_name": "Python 3 (ipykernel)",
   "language": "python",
   "name": "python3"
  },
  "language_info": {
   "codemirror_mode": {
    "name": "ipython",
    "version": 3
   },
   "file_extension": ".py",
   "mimetype": "text/x-python",
   "name": "python",
   "nbconvert_exporter": "python",
   "pygments_lexer": "ipython3",
   "version": "3.10.9"
  }
 },
 "nbformat": 4,
 "nbformat_minor": 5
}
