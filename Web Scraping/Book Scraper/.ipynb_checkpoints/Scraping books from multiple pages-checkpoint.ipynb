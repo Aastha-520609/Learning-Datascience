{
 "cells": [
  {
   "cell_type": "code",
   "execution_count": null,
   "id": "299484ed",
   "metadata": {},
   "outputs": [],
   "source": [
    "import requests\n",
    "from bs4 import BeautifulSoup\n",
    "from tqdm import tqdm"
   ]
  },
  {
   "cell_type": "code",
   "execution_count": null,
   "id": "545df65c",
   "metadata": {},
   "outputs": [],
   "source": [
    "data = []\n",
    "\n",
    "for i in tqdm(range(1,51)):\n",
    "    \n",
    "    link = \"https://books.toscrape.com/catalogue/page-\" + str(i)+ \".html\"\n",
    "    \n",
    "    res = requests.get(link)\n",
    "    soup = BeautifulSoup(res.text, 'html.parser')\n",
    "    \n",
    "    for sp in soup.find_all('li', class_ = 'col-xs-6 col-sm-4 col-md-3 col-lg-3'):\n",
    "    \n",
    "        img_link = \"https://books.toscrape.com/\" + sp.find('img').get('src')[3:]\n",
    "        book_link = \"https://books.toscrape.com/catalogue/\" + sp.find_all('a')[-1].get('href')\n",
    "        title = sp.find_all('a')[-1].get('title')\n",
    "        rating = sp.find('p').get('class')[-1]\n",
    "        price = sp.find('p', class_ = 'price_color').text[2:]\n",
    "        available = sp.find('p', class_ = 'instock availability').text.strip()\n",
    "    \n",
    "        data.append([title, rating, price, available, book_link, img_link])"
   ]
  },
  {
   "cell_type": "code",
   "execution_count": null,
   "id": "b9c50027",
   "metadata": {},
   "outputs": [],
   "source": []
  }
 ],
 "metadata": {
  "kernelspec": {
   "display_name": "Python 3 (ipykernel)",
   "language": "python",
   "name": "python3"
  },
  "language_info": {
   "codemirror_mode": {
    "name": "ipython",
    "version": 3
   },
   "file_extension": ".py",
   "mimetype": "text/x-python",
   "name": "python",
   "nbconvert_exporter": "python",
   "pygments_lexer": "ipython3",
   "version": "3.10.9"
  }
 },
 "nbformat": 4,
 "nbformat_minor": 5
}
