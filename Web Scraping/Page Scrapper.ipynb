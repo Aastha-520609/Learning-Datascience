{
 "cells": [
  {
   "cell_type": "code",
   "execution_count": 1,
   "id": "0fcb2d7e",
   "metadata": {},
   "outputs": [],
   "source": [
    "import requests"
   ]
  },
  {
   "cell_type": "code",
   "execution_count": 2,
   "id": "b4382638",
   "metadata": {},
   "outputs": [],
   "source": [
    "link = \"https://quotes.toscrape.com/\""
   ]
  },
  {
   "cell_type": "code",
   "execution_count": 3,
   "id": "8645f3a6",
   "metadata": {},
   "outputs": [],
   "source": [
    "res = requests.get(link)"
   ]
  },
  {
   "cell_type": "code",
   "execution_count": 4,
   "id": "0688059a",
   "metadata": {},
   "outputs": [],
   "source": [
    "h = res.text"
   ]
  },
  {
   "cell_type": "code",
   "execution_count": 7,
   "id": "9a40b43b",
   "metadata": {},
   "outputs": [],
   "source": [
    "fd = open('main.html', 'w', encoding = 'utf-8')"
   ]
  },
  {
   "cell_type": "code",
   "execution_count": 8,
   "id": "1b8e8cce",
   "metadata": {},
   "outputs": [
    {
     "data": {
      "text/plain": [
       "11011"
      ]
     },
     "execution_count": 8,
     "metadata": {},
     "output_type": "execute_result"
    }
   ],
   "source": [
    "fd.write(h)"
   ]
  },
  {
   "cell_type": "code",
   "execution_count": null,
   "id": "477a8aca",
   "metadata": {},
   "outputs": [],
   "source": []
  }
 ],
 "metadata": {
  "kernelspec": {
   "display_name": "Python 3 (ipykernel)",
   "language": "python",
   "name": "python3"
  },
  "language_info": {
   "codemirror_mode": {
    "name": "ipython",
    "version": 3
   },
   "file_extension": ".py",
   "mimetype": "text/x-python",
   "name": "python",
   "nbconvert_exporter": "python",
   "pygments_lexer": "ipython3",
   "version": "3.10.9"
  }
 },
 "nbformat": 4,
 "nbformat_minor": 5
}
