{
 "cells": [
  {
   "cell_type": "code",
   "execution_count": 1,
   "id": "9769808f",
   "metadata": {},
   "outputs": [],
   "source": [
    "import requests\n",
    "import pandas as pd\n",
    "from tqdm import tqdm\n",
    "from bs4 import BeautifulSoup"
   ]
  },
  {
   "cell_type": "code",
   "execution_count": 8,
   "id": "f1f750be",
   "metadata": {},
   "outputs": [],
   "source": [
    "res = requests.get(\"https://quotes.toscrape.com/\")"
   ]
  },
  {
   "cell_type": "code",
   "execution_count": 7,
   "id": "808505f3",
   "metadata": {},
   "outputs": [
    {
     "ename": "NameError",
     "evalue": "name 'res' is not defined",
     "output_type": "error",
     "traceback": [
      "\u001b[1;31m---------------------------------------------------------------------------\u001b[0m",
      "\u001b[1;31mNameError\u001b[0m                                 Traceback (most recent call last)",
      "Cell \u001b[1;32mIn[7], line 1\u001b[0m\n\u001b[1;32m----> 1\u001b[0m soup \u001b[38;5;241m=\u001b[39m BeautifulSoup(\u001b[43mres\u001b[49m\u001b[38;5;241m.\u001b[39mtext, \u001b[38;5;124m'\u001b[39m\u001b[38;5;124mhtml.parser\u001b[39m\u001b[38;5;124m'\u001b[39m)\n",
      "\u001b[1;31mNameError\u001b[0m: name 'res' is not defined"
     ]
    }
   ],
   "source": [
    "soup = BeautifulSoup(res.text, 'html.parser')"
   ]
  },
  {
   "cell_type": "code",
   "execution_count": null,
   "id": "441c94ed",
   "metadata": {},
   "outputs": [],
   "source": [
    "data = []\n",
    "\n",
    "for page in range[1,11]:\n",
    "    link = 'https://quotes.toscrape.com/'+\n",
    "     \n",
    "for sp in soup.find_all('div', class_ = 'quote'):\n",
    "\n",
    "    quote        = sp.find('span', class_ = 'text').text[1:-1]\n",
    "    author       = sp.find('small').text\n",
    "    author_id    = sp.find('a').get('href')\n",
    "    author_link  = \"https://quotes.toscrape.com\"+sp.find('a').get('href')\n",
    "    \n",
    "    tags = []\n",
    "    for tag in sp.find_all('a', class_ = 'tag'):\n",
    "        tags.append(tag.text)    \n",
    "    tags         = ','.join(tags)\n",
    "    \n",
    "    data.append([quote, author, author_id, tags, author_link])    "
   ]
  }
 ],
 "metadata": {
  "kernelspec": {
   "display_name": "Python 3 (ipykernel)",
   "language": "python",
   "name": "python3"
  },
  "language_info": {
   "codemirror_mode": {
    "name": "ipython",
    "version": 3
   },
   "file_extension": ".py",
   "mimetype": "text/x-python",
   "name": "python",
   "nbconvert_exporter": "python",
   "pygments_lexer": "ipython3",
   "version": "3.10.9"
  }
 },
 "nbformat": 4,
 "nbformat_minor": 5
}
