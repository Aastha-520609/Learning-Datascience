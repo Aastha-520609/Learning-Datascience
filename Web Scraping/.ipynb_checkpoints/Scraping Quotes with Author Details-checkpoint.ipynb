{
 "cells": [
  {
   "cell_type": "code",
   "execution_count": 29,
   "id": "a5bd71e1",
   "metadata": {},
   "outputs": [],
   "source": [
    "import requests\n",
    "import pandas as pd\n",
    "from bs4 import BeautifulSoup"
   ]
  },
  {
   "cell_type": "code",
   "execution_count": null,
   "id": "f33da716",
   "metadata": {},
   "outputs": [],
   "source": [
    "res = requests.get(\"https://quotes.toscrape.com/\")"
   ]
  },
  {
   "cell_type": "code",
   "execution_count": null,
   "id": "9c5916ed",
   "metadata": {},
   "outputs": [],
   "source": [
    "soup = BeautifulSoup(res.text, 'html.parser')"
   ]
  },
  {
   "cell_type": "raw",
   "id": "d3a7c6d9",
   "metadata": {},
   "source": [
    "data = []\n",
    "\n",
    "for sp in soup.find_all('div', class_ = 'quote'):\n",
    "    quote = sp.find('span', class_ = 'text').text[1:-1]\n",
    "    author = sp.find('small').text\n",
    "    author_id = sp.find('a').get('href')\n",
    "    author_link = sp.find('a')\n",
    "    \n",
    "    tags = []\n",
    "    for tag in sp.find_all('a', class_ = 'tag'):\n",
    "        tags.append(tag.text)    \n",
    "    tags = ','.join(tags) #make it comma separated\n",
    "    \n",
    "    \n",
    "    data.append([quote, author, author_id, tags, author_link])\n",
    "    "
   ]
  },
  {
   "cell_type": "code",
   "execution_count": null,
   "id": "57d9f78e",
   "metadata": {},
   "outputs": [],
   "source": [
    "data"
   ]
  },
  {
   "cell_type": "code",
   "execution_count": null,
   "id": "31e55a62",
   "metadata": {},
   "outputs": [],
   "source": [
    "df = pd.DataFrame(data, columns = ['quote', 'author', 'author_id', 'tags', 'author_link'])"
   ]
  },
  {
   "cell_type": "code",
   "execution_count": null,
   "id": "cb1c7d06",
   "metadata": {},
   "outputs": [],
   "source": [
    "df"
   ]
  },
  {
   "cell_type": "code",
   "execution_count": 39,
   "id": "8a1c0854",
   "metadata": {},
   "outputs": [],
   "source": [
    "df.to_csv('Quotes.csv', index = False) #saving the csv file"
   ]
  },
  {
   "cell_type": "code",
   "execution_count": null,
   "id": "fc45a3a5",
   "metadata": {},
   "outputs": [],
   "source": [
    "df"
   ]
  },
  {
   "cell_type": "code",
   "execution_count": null,
   "id": "056e04f3",
   "metadata": {},
   "outputs": [],
   "source": []
  }
 ],
 "metadata": {
  "kernelspec": {
   "display_name": "Python 3 (ipykernel)",
   "language": "python",
   "name": "python3"
  },
  "language_info": {
   "codemirror_mode": {
    "name": "ipython",
    "version": 3
   },
   "file_extension": ".py",
   "mimetype": "text/x-python",
   "name": "python",
   "nbconvert_exporter": "python",
   "pygments_lexer": "ipython3",
   "version": "3.10.9"
  }
 },
 "nbformat": 4,
 "nbformat_minor": 5
}
