{
 "cells": [
  {
   "cell_type": "code",
   "execution_count": 1,
   "id": "9b4cd9ae",
   "metadata": {},
   "outputs": [],
   "source": [
    "fd = open(\"Inventory.txt\", \"w\")\n",
    "fd.close()"
   ]
  },
  {
   "cell_type": "code",
   "execution_count": 19,
   "id": "e4aeb1d9",
   "metadata": {},
   "outputs": [],
   "source": [
    "fd = open(\"Inventory.txt\", \"r\")\n",
    "txt = fd.read().split(\"\\n\")\n",
    "fd.close()"
   ]
  },
  {
   "cell_type": "code",
   "execution_count": 20,
   "id": "c54351ab",
   "metadata": {},
   "outputs": [
    {
     "data": {
      "text/plain": [
       "['1,DairyMilk,20,100', '2,Bubbly,30,150', '3,Gemes,10,20', '4,Kitkat,40,40']"
      ]
     },
     "execution_count": 20,
     "metadata": {},
     "output_type": "execute_result"
    }
   ],
   "source": [
    "txt"
   ]
  },
  {
   "cell_type": "code",
   "execution_count": 17,
   "id": "8b832bc9",
   "metadata": {},
   "outputs": [
    {
     "name": "stdout",
     "output_type": "stream",
     "text": [
      "['1,DairyMilk,20,100', '2,Bubbly,30,150', '3,Gemes,10,20', '4,Kitkat,40,40', '']\n"
     ]
    }
   ],
   "source": [
    "print(txt)"
   ]
  },
  {
   "cell_type": "code",
   "execution_count": 18,
   "id": "bf87c5f5",
   "metadata": {},
   "outputs": [
    {
     "ename": "AttributeError",
     "evalue": "'list' object has no attribute 'split'",
     "output_type": "error",
     "traceback": [
      "\u001b[1;31m---------------------------------------------------------------------------\u001b[0m",
      "\u001b[1;31mAttributeError\u001b[0m                            Traceback (most recent call last)",
      "Cell \u001b[1;32mIn[18], line 1\u001b[0m\n\u001b[1;32m----> 1\u001b[0m products \u001b[38;5;241m=\u001b[39m \u001b[43mtxt\u001b[49m\u001b[38;5;241;43m.\u001b[39;49m\u001b[43msplit\u001b[49m(\u001b[38;5;124m\"\u001b[39m\u001b[38;5;130;01m\\n\u001b[39;00m\u001b[38;5;124m\"\u001b[39m)\n",
      "\u001b[1;31mAttributeError\u001b[0m: 'list' object has no attribute 'split'"
     ]
    }
   ],
   "source": [
    "products = txt.split(\"\\n\")"
   ]
  },
  {
   "cell_type": "code",
   "execution_count": 21,
   "id": "a1bcc9a2",
   "metadata": {},
   "outputs": [
    {
     "name": "stdout",
     "output_type": "stream",
     "text": [
      "['1,DairyMilk,20,100']\n",
      "['2,Bubbly,30,150']\n",
      "['3,Gemes,10,20']\n",
      "['4,Kitkat,40,40']\n"
     ]
    }
   ],
   "source": [
    "for product in txt:\n",
    "    print(product.split(\"\\n\"))"
   ]
  },
  {
   "cell_type": "code",
   "execution_count": 26,
   "id": "60bf4ac9",
   "metadata": {},
   "outputs": [
    {
     "name": "stdout",
     "output_type": "stream",
     "text": [
      "Enter the product id: 1\n",
      "Enter the product Quantity:2\n",
      "Product Name:  DairyMilk\n",
      "Price:  20\n",
      "Quantity:  2\n",
      "Total Billing Amount:  40\n"
     ]
    }
   ],
   "source": [
    "prod_ID = input(\"Enter the product id: \")\n",
    "prod_quan = input(\"Enter the product Quantity:\")\n",
    "\n",
    "updatedProductList = []\n",
    "\n",
    "for product in txt:\n",
    "    prod_details = product.split(\",\")\n",
    "    if(prod_details[0] == prod_ID):\n",
    "        print(\"Product Name: \", prod_details[1])\n",
    "        print(\"Price: \", prod_details[2])\n",
    "        print(\"Quantity: \", prod_quan)\n",
    "        print(\"Total Billing Amount: \", int(prod_quan) * int(prod_details[2]))\n",
    "        \n",
    "        prod_details[3] = str(int(prod_details[3]) - int(prod_quan))\n",
    "        \n",
    "    updatedProductList.append(prod_details)"
   ]
  },
  {
   "cell_type": "code",
   "execution_count": null,
   "id": "28e3775e",
   "metadata": {},
   "outputs": [],
   "source": []
  },
  {
   "cell_type": "code",
   "execution_count": 27,
   "id": "75c6398c",
   "metadata": {},
   "outputs": [
    {
     "name": "stdout",
     "output_type": "stream",
     "text": [
      "1,DairyMilk,20,100\n",
      "2,Bubbly,30,150\n",
      "3,Gemes,10,20\n",
      "4,Kitkat,40,40\n"
     ]
    }
   ],
   "source": [
    "for i in txt:\n",
    "    print(i)"
   ]
  },
  {
   "cell_type": "code",
   "execution_count": null,
   "id": "8b0fb33a",
   "metadata": {},
   "outputs": [],
   "source": []
  }
 ],
 "metadata": {
  "kernelspec": {
   "display_name": "Python 3 (ipykernel)",
   "language": "python",
   "name": "python3"
  },
  "language_info": {
   "codemirror_mode": {
    "name": "ipython",
    "version": 3
   },
   "file_extension": ".py",
   "mimetype": "text/x-python",
   "name": "python",
   "nbconvert_exporter": "python",
   "pygments_lexer": "ipython3",
   "version": "3.10.9"
  }
 },
 "nbformat": 4,
 "nbformat_minor": 5
}
