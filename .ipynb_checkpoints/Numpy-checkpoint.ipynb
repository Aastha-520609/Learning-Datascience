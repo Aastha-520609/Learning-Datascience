{
 "cells": [
  {
   "cell_type": "code",
   "execution_count": 2,
   "id": "df46ef24",
   "metadata": {},
   "outputs": [],
   "source": [
    "import numpy as np"
   ]
  },
  {
   "cell_type": "code",
   "execution_count": 7,
   "id": "5b2e10e1",
   "metadata": {},
   "outputs": [
    {
     "name": "stdout",
     "output_type": "stream",
     "text": [
      "[1 2 3 4]\n"
     ]
    },
    {
     "data": {
      "text/plain": [
       "list"
      ]
     },
     "execution_count": 7,
     "metadata": {},
     "output_type": "execute_result"
    }
   ],
   "source": [
    "#1-converting list into array \n",
    "lst = [1,2,3,4]\n",
    "arr = np.array(lst)\n",
    "print(arr)\n",
    "type(arr)\n",
    "type(lst)"
   ]
  },
  {
   "cell_type": "code",
   "execution_count": 9,
   "id": "15b7f9f7",
   "metadata": {},
   "outputs": [
    {
     "name": "stdout",
     "output_type": "stream",
     "text": [
      "[[1 2 3 4]]\n"
     ]
    }
   ],
   "source": [
    "#we can also add dimension while converting\n",
    "arr1 = np.array(lst , ndmin = 2)\n",
    "print(arr1)"
   ]
  },
  {
   "cell_type": "code",
   "execution_count": 10,
   "id": "d739bba9",
   "metadata": {},
   "outputs": [
    {
     "name": "stdout",
     "output_type": "stream",
     "text": [
      "[1 3 5 7 9]\n"
     ]
    }
   ],
   "source": [
    "#2-Arrange function\n",
    "arr = np.arange(1,10,2) # start stop separate\n",
    "print(arr)"
   ]
  },
  {
   "cell_type": "code",
   "execution_count": 17,
   "id": "8b22ad38",
   "metadata": {},
   "outputs": [
    {
     "name": "stdout",
     "output_type": "stream",
     "text": [
      "[[1 2 3]\n",
      " [4 5 6]\n",
      " [7 8 9]\n",
      " [0 1 2]]\n"
     ]
    }
   ],
   "source": [
    "#3- Multidimensional array\n",
    "arr = np.array([[1,2,3],[4,5,6],[7,8,9],[0,1,2]])\n",
    "print(arr)"
   ]
  },
  {
   "cell_type": "code",
   "execution_count": 19,
   "id": "00c4cd8f",
   "metadata": {},
   "outputs": [
    {
     "name": "stdout",
     "output_type": "stream",
     "text": [
      "12\n",
      "4\n",
      "3\n"
     ]
    }
   ],
   "source": [
    "#4- Size function - finds how many elements are present in an array\n",
    "print(arr.size) # this gives us total size\n",
    "print(np.size(arr,0)) #this gives size of rows since 0 indicate rows\n",
    "print(np.size(arr,1)) # this gives size of column"
   ]
  },
  {
   "cell_type": "code",
   "execution_count": 20,
   "id": "834560d1",
   "metadata": {},
   "outputs": [
    {
     "name": "stdout",
     "output_type": "stream",
     "text": [
      "int32\n"
     ]
    }
   ],
   "source": [
    "#5- dtype - gives the data type of array\n",
    "print(arr.dtype)"
   ]
  },
  {
   "cell_type": "code",
   "execution_count": 21,
   "id": "976572f6",
   "metadata": {},
   "outputs": [
    {
     "name": "stdout",
     "output_type": "stream",
     "text": [
      "2\n"
     ]
    }
   ],
   "source": [
    "#6- ndim - gives dimenstion of array\n",
    "print(arr.ndim)"
   ]
  },
  {
   "cell_type": "code",
   "execution_count": 22,
   "id": "9fc55dad",
   "metadata": {},
   "outputs": [
    {
     "name": "stdout",
     "output_type": "stream",
     "text": [
      "[[0 0 0 0]\n",
      " [0 0 0 0]\n",
      " [0 0 0 0]]\n"
     ]
    }
   ],
   "source": [
    "#7- Zero function - It creates zero matrix for the given dimension and type\n",
    "arr = np.zeros(shape = (3,4), dtype = int)\n",
    "print(arr)"
   ]
  },
  {
   "cell_type": "code",
   "execution_count": 4,
   "id": "a3b6cbf7",
   "metadata": {},
   "outputs": [
    {
     "name": "stdout",
     "output_type": "stream",
     "text": [
      "[[1 1 1 1 1]\n",
      " [1 1 1 1 1]\n",
      " [1 1 1 1 1]\n",
      " [1 1 1 1 1]\n",
      " [1 1 1 1 1]]\n"
     ]
    }
   ],
   "source": [
    "#8- Ones function - It is similar to zeros function, it creates 1's matrix inplace of zero\n",
    "arr = np.ones(shape = (5,5), dtype = int)\n",
    "print(arr)"
   ]
  },
  {
   "cell_type": "code",
   "execution_count": 6,
   "id": "fc76c10d",
   "metadata": {},
   "outputs": [
    {
     "data": {
      "text/plain": [
       "array([[1, 0, 0, 0, 0],\n",
       "       [0, 1, 0, 0, 0],\n",
       "       [0, 0, 1, 0, 0],\n",
       "       [0, 0, 0, 1, 0],\n",
       "       [0, 0, 0, 0, 1]])"
      ]
     },
     "execution_count": 6,
     "metadata": {},
     "output_type": "execute_result"
    }
   ],
   "source": [
    "#9- Eye function - identity matrix \n",
    "np.eye(5, dtype = int)"
   ]
  },
  {
   "cell_type": "code",
   "execution_count": 10,
   "id": "86d3ed2a",
   "metadata": {},
   "outputs": [
    {
     "name": "stdout",
     "output_type": "stream",
     "text": [
      "[[1. 1. 1. 1. 1.]\n",
      " [1. 1. 1. 1. 1.]\n",
      " [1. 1. 1. 1. 1.]\n",
      " [1. 1. 1. 1. 1.]\n",
      " [1. 1. 1. 1. 1.]]\n"
     ]
    }
   ],
   "source": [
    "#10- Empty function - returns an empty array of given shape and size\n",
    "arr = np.empty(shape = (5,5))\n",
    "print(arr)"
   ]
  },
  {
   "cell_type": "code",
   "execution_count": 11,
   "id": "c9b04320",
   "metadata": {},
   "outputs": [
    {
     "data": {
      "text/plain": [
       "array([[0.28861412, 0.50943094, 0.54683666, 0.34667918],\n",
       "       [0.58295777, 0.82489793, 0.3700464 , 0.24818404],\n",
       "       [0.31772093, 0.66264238, 0.28981229, 0.37053104]])"
      ]
     },
     "execution_count": 11,
     "metadata": {},
     "output_type": "execute_result"
    }
   ],
   "source": [
    "#11- Random functions\n",
    "np.random.rand(3,4) # 1st type"
   ]
  },
  {
   "cell_type": "code",
   "execution_count": 17,
   "id": "20000be8",
   "metadata": {},
   "outputs": [
    {
     "data": {
      "text/plain": [
       "array([6, 0, 3, 2, 0, 3, 1, 7, 7, 8])"
      ]
     },
     "execution_count": 17,
     "metadata": {},
     "output_type": "execute_result"
    }
   ],
   "source": [
    "#2nd type - it returns random integers value within the range\n",
    "np.random.randint(low = 0, high = 10, size = 10)"
   ]
  },
  {
   "cell_type": "code",
   "execution_count": 18,
   "id": "37fbd025",
   "metadata": {},
   "outputs": [
    {
     "data": {
      "text/plain": [
       "array([ 1.43799744, -0.93164428, -1.90003076, -2.24222538,  0.70562474,\n",
       "       -0.5770049 ,  0.10589995, -0.60755821,  1.17246552, -1.02794216,\n",
       "        0.50278032, -2.44523149, -1.6519626 ,  2.05237381, -0.97607661,\n",
       "       -0.96678357,  0.69394352,  0.17916338, -0.15138824, -0.70810097])"
      ]
     },
     "execution_count": 18,
     "metadata": {},
     "output_type": "execute_result"
    }
   ],
   "source": [
    "#3rd type - it creates random values as per the standard normal distribution\n",
    "np.random.randn(20)"
   ]
  },
  {
   "cell_type": "code",
   "execution_count": 22,
   "id": "4100d822",
   "metadata": {},
   "outputs": [
    {
     "name": "stdout",
     "output_type": "stream",
     "text": [
      "(3, 4)\n",
      "[[5 3 7 9]\n",
      " [5 8 3 4]\n",
      " [5 8 9 4]]\n",
      "(4, 3)\n",
      "[[5 3 7]\n",
      " [9 5 8]\n",
      " [3 4 5]\n",
      " [8 9 4]]\n"
     ]
    }
   ],
   "source": [
    "#12- Reshape function- only reshapes if the matrix size is same \n",
    "arr = np.random.randint(1,10,(3,4))\n",
    "print(arr.shape)\n",
    "print(arr)\n",
    "arr = arr.reshape(4,3)\n",
    "print(arr.shape)\n",
    "print(arr)"
   ]
  },
  {
   "cell_type": "code",
   "execution_count": null,
   "id": "3add1733",
   "metadata": {},
   "outputs": [],
   "source": [
    "#13- Linshape function-"
   ]
  }
 ],
 "metadata": {
  "kernelspec": {
   "display_name": "Python 3 (ipykernel)",
   "language": "python",
   "name": "python3"
  },
  "language_info": {
   "codemirror_mode": {
    "name": "ipython",
    "version": 3
   },
   "file_extension": ".py",
   "mimetype": "text/x-python",
   "name": "python",
   "nbconvert_exporter": "python",
   "pygments_lexer": "ipython3",
   "version": "3.10.9"
  }
 },
 "nbformat": 4,
 "nbformat_minor": 5
}
