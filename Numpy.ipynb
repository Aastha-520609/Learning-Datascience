{
 "cells": [
  {
   "cell_type": "code",
   "execution_count": 2,
   "id": "df46ef24",
   "metadata": {},
   "outputs": [],
   "source": [
    "import numpy as np"
   ]
  },
  {
   "cell_type": "code",
   "execution_count": 7,
   "id": "5b2e10e1",
   "metadata": {},
   "outputs": [
    {
     "name": "stdout",
     "output_type": "stream",
     "text": [
      "[1 2 3 4]\n"
     ]
    },
    {
     "data": {
      "text/plain": [
       "list"
      ]
     },
     "execution_count": 7,
     "metadata": {},
     "output_type": "execute_result"
    }
   ],
   "source": [
    "#1-converting list into array \n",
    "lst = [1,2,3,4]\n",
    "arr = np.array(lst)\n",
    "print(arr)\n",
    "type(arr)\n",
    "type(lst)"
   ]
  },
  {
   "cell_type": "code",
   "execution_count": 9,
   "id": "15b7f9f7",
   "metadata": {},
   "outputs": [
    {
     "name": "stdout",
     "output_type": "stream",
     "text": [
      "[[1 2 3 4]]\n"
     ]
    }
   ],
   "source": [
    "#we can also add dimension while converting\n",
    "arr1 = np.array(lst , ndmin = 2)\n",
    "print(arr1)"
   ]
  },
  {
   "cell_type": "code",
   "execution_count": 10,
   "id": "d739bba9",
   "metadata": {},
   "outputs": [
    {
     "name": "stdout",
     "output_type": "stream",
     "text": [
      "[1 3 5 7 9]\n"
     ]
    }
   ],
   "source": [
    "#2-Arrange function\n",
    "arr = np.arange(1,10,2) # start stop separate\n",
    "print(arr)"
   ]
  },
  {
   "cell_type": "code",
   "execution_count": 17,
   "id": "8b22ad38",
   "metadata": {},
   "outputs": [
    {
     "name": "stdout",
     "output_type": "stream",
     "text": [
      "[[1 2 3]\n",
      " [4 5 6]\n",
      " [7 8 9]\n",
      " [0 1 2]]\n"
     ]
    }
   ],
   "source": [
    "#3- Multidimensional array\n",
    "arr = np.array([[1,2,3],[4,5,6],[7,8,9],[0,1,2]])\n",
    "print(arr)"
   ]
  },
  {
   "cell_type": "code",
   "execution_count": 19,
   "id": "00c4cd8f",
   "metadata": {},
   "outputs": [
    {
     "name": "stdout",
     "output_type": "stream",
     "text": [
      "12\n",
      "4\n",
      "3\n"
     ]
    }
   ],
   "source": [
    "#4- Size function - finds how many elements are present in an array\n",
    "print(arr.size) # this gives us total size\n",
    "print(np.size(arr,0)) #this gives size of rows since 0 indicate rows\n",
    "print(np.size(arr,1)) # this gives size of column"
   ]
  },
  {
   "cell_type": "code",
   "execution_count": 20,
   "id": "834560d1",
   "metadata": {},
   "outputs": [
    {
     "name": "stdout",
     "output_type": "stream",
     "text": [
      "int32\n"
     ]
    }
   ],
   "source": [
    "#5- dtype - gives the data type of array\n",
    "print(arr.dtype)"
   ]
  },
  {
   "cell_type": "code",
   "execution_count": 21,
   "id": "976572f6",
   "metadata": {},
   "outputs": [
    {
     "name": "stdout",
     "output_type": "stream",
     "text": [
      "2\n"
     ]
    }
   ],
   "source": [
    "#6- ndim - gives dimenstion of array\n",
    "print(arr.ndim)"
   ]
  },
  {
   "cell_type": "code",
   "execution_count": 22,
   "id": "9fc55dad",
   "metadata": {},
   "outputs": [
    {
     "name": "stdout",
     "output_type": "stream",
     "text": [
      "[[0 0 0 0]\n",
      " [0 0 0 0]\n",
      " [0 0 0 0]]\n"
     ]
    }
   ],
   "source": [
    "#7- Zero function - It creates zero matrix for the given dimension and type\n",
    "arr = np.zeros(shape = (3,4), dtype = int)\n",
    "print(arr)"
   ]
  },
  {
   "cell_type": "code",
   "execution_count": 4,
   "id": "3a939f6b",
   "metadata": {},
   "outputs": [
    {
     "name": "stdout",
     "output_type": "stream",
     "text": [
      "[[1 1 1 1 1]\n",
      " [1 1 1 1 1]\n",
      " [1 1 1 1 1]\n",
      " [1 1 1 1 1]\n",
      " [1 1 1 1 1]]\n"
     ]
    }
   ],
   "source": [
    "#8- Ones function - It is similar to zeros function, it creates 1's matrix inplace of zero\n",
    "arr = np.ones(shape = (5,5), dtype = int)\n",
    "print(arr)"
   ]
  },
  {
   "cell_type": "code",
   "execution_count": 6,
   "id": "1ed8c6d0",
   "metadata": {},
   "outputs": [
    {
     "data": {
      "text/plain": [
       "array([[1, 0, 0, 0, 0],\n",
       "       [0, 1, 0, 0, 0],\n",
       "       [0, 0, 1, 0, 0],\n",
       "       [0, 0, 0, 1, 0],\n",
       "       [0, 0, 0, 0, 1]])"
      ]
     },
     "execution_count": 6,
     "metadata": {},
     "output_type": "execute_result"
    }
   ],
   "source": [
    "#9- Eye function - identity matrix \n",
    "np.eye(5, dtype = int)"
   ]
  },
  {
   "cell_type": "code",
   "execution_count": 10,
   "id": "0a97c372",
   "metadata": {},
   "outputs": [
    {
     "name": "stdout",
     "output_type": "stream",
     "text": [
      "[[1. 1. 1. 1. 1.]\n",
      " [1. 1. 1. 1. 1.]\n",
      " [1. 1. 1. 1. 1.]\n",
      " [1. 1. 1. 1. 1.]\n",
      " [1. 1. 1. 1. 1.]]\n"
     ]
    }
   ],
   "source": [
    "#10- Empty function - returns an empty array of given shape and size\n",
    "arr = np.empty(shape = (5,5))\n",
    "print(arr)"
   ]
  },
  {
   "cell_type": "code",
   "execution_count": 11,
   "id": "f2816721",
   "metadata": {},
   "outputs": [
    {
     "data": {
      "text/plain": [
       "array([[0.28861412, 0.50943094, 0.54683666, 0.34667918],\n",
       "       [0.58295777, 0.82489793, 0.3700464 , 0.24818404],\n",
       "       [0.31772093, 0.66264238, 0.28981229, 0.37053104]])"
      ]
     },
     "execution_count": 11,
     "metadata": {},
     "output_type": "execute_result"
    }
   ],
   "source": [
    "#11- Random functions\n",
    "np.random.rand(3,4) # 1st type"
   ]
  },
  {
   "cell_type": "code",
   "execution_count": 17,
   "id": "880ab66a",
   "metadata": {},
   "outputs": [
    {
     "data": {
      "text/plain": [
       "array([6, 0, 3, 2, 0, 3, 1, 7, 7, 8])"
      ]
     },
     "execution_count": 17,
     "metadata": {},
     "output_type": "execute_result"
    }
   ],
   "source": [
    "#2nd type - it returns random integers value within the range\n",
    "np.random.randint(low = 0, high = 10, size = 10)"
   ]
  },
  {
   "cell_type": "code",
   "execution_count": 18,
   "id": "2615f4f1",
   "metadata": {},
   "outputs": [
    {
     "data": {
      "text/plain": [
       "array([ 1.43799744, -0.93164428, -1.90003076, -2.24222538,  0.70562474,\n",
       "       -0.5770049 ,  0.10589995, -0.60755821,  1.17246552, -1.02794216,\n",
       "        0.50278032, -2.44523149, -1.6519626 ,  2.05237381, -0.97607661,\n",
       "       -0.96678357,  0.69394352,  0.17916338, -0.15138824, -0.70810097])"
      ]
     },
     "execution_count": 18,
     "metadata": {},
     "output_type": "execute_result"
    }
   ],
   "source": [
    "#3rd type - it creates random values as per the standard normal distribution\n",
    "np.random.randn(20)"
   ]
  },
  {
   "cell_type": "code",
   "execution_count": 22,
   "id": "61ce558e",
   "metadata": {},
   "outputs": [
    {
     "name": "stdout",
     "output_type": "stream",
     "text": [
      "(3, 4)\n",
      "[[5 3 7 9]\n",
      " [5 8 3 4]\n",
      " [5 8 9 4]]\n",
      "(4, 3)\n",
      "[[5 3 7]\n",
      " [9 5 8]\n",
      " [3 4 5]\n",
      " [8 9 4]]\n"
     ]
    }
   ],
   "source": [
    "#12- Reshape function- only reshapes if the matrix size is same \n",
    "arr = np.random.randint(1,10,(3,4))\n",
    "print(arr.shape)\n",
    "print(arr)\n",
    "arr = arr.reshape(4,3)\n",
    "print(arr.shape)\n",
    "print(arr)"
   ]
  },
  {
   "cell_type": "code",
   "execution_count": 25,
   "id": "dc8c1288",
   "metadata": {},
   "outputs": [
    {
     "data": {
      "text/plain": [
       "array([ 1. ,  2.5,  4. ,  5.5,  7. ,  8.5, 10. ])"
      ]
     },
     "execution_count": 25,
     "metadata": {},
     "output_type": "execute_result"
    }
   ],
   "source": [
    "#13- Linspace function-similar to rearange , in place of step it takes the how many number should be generated\n",
    "np.linspace(1,10,7)"
   ]
  },
  {
   "cell_type": "code",
   "execution_count": 29,
   "id": "22cca445",
   "metadata": {},
   "outputs": [
    {
     "name": "stdout",
     "output_type": "stream",
     "text": [
      "(2, 3)\n",
      "[[1 2 3]\n",
      " [4 5 6]]\n",
      "(6,)\n",
      "[1 2 3 4 5 6]\n"
     ]
    }
   ],
   "source": [
    "#14- Flatten function - it returns the 2d array in single d array of same element\n",
    "arr = np.array([[1,2,3],\n",
    "              [4,5,6]])\n",
    "print(arr.shape)\n",
    "print(arr)\n",
    "arr = arr.flatten()\n",
    "print(arr.shape)\n",
    "print(arr)"
   ]
  },
  {
   "cell_type": "code",
   "execution_count": 31,
   "id": "6412f36a",
   "metadata": {},
   "outputs": [
    {
     "name": "stdout",
     "output_type": "stream",
     "text": [
      "[  100.           316.22776602  1000.          3162.27766017\n",
      " 10000.        ]\n"
     ]
    }
   ],
   "source": [
    "#15- logspace function\n",
    "print(np.logspace(2,4,5))"
   ]
  },
  {
   "cell_type": "code",
   "execution_count": 38,
   "id": "8f08f301",
   "metadata": {},
   "outputs": [
    {
     "name": "stdout",
     "output_type": "stream",
     "text": [
      "Initial array is : [ 2  6 13 10 14] and its id is : 2013856692720\n",
      "Copied array using equals to is : [ 2  6 13 10 14] and its id is : 2013856692720\n",
      "Copied array using copy function is : [ 2  6 13 10 14] and its id is : 2013856692432\n"
     ]
    }
   ],
   "source": [
    "#16- copy function - when we use = to then the id of arrays are same so inorder to overcome this we use copy function\n",
    "arr = np.random.randint(1,20,5)\n",
    "print(\"Initial array is :\", arr , \"and its id is :\", id(arr))\n",
    "arr1 = arr\n",
    "print(\"Copied array using equals to is :\", arr1, \"and its id is :\", id(arr1))\n",
    "\n",
    "#Now let us see the difference using copy function\n",
    "arr1 = np.copy(arr)\n",
    "print(\"Copied array using copy function is :\", arr1, \"and its id is :\", id(arr1))\n"
   ]
  },
  {
   "cell_type": "code",
   "execution_count": 41,
   "id": "25bd7f94",
   "metadata": {},
   "outputs": [
    {
     "name": "stdout",
     "output_type": "stream",
     "text": [
      "[[17  2  4 14  4]\n",
      " [ 6  4  9 11 12]\n",
      " [ 2 18  5  2  7]]\n",
      "Max element is:  18\n",
      "Min element is:  2\n",
      "Sum of elements is:  117\n",
      "Max element is:  [17 12 18]\n",
      "Min element is:  [2 4 2]\n",
      "Sum of elements is:  [41 42 34]\n"
     ]
    }
   ],
   "source": [
    "#17- array min , max and sum fuction\n",
    "#For the whole array \n",
    "arr = np.random.randint(1,20,(3,5))\n",
    "print(arr)\n",
    "print(\"Max element is: \", arr.max())\n",
    "print(\"Min element is: \", arr.min())\n",
    "print(\"Sum of elements is: \", arr.sum())\n",
    "\n",
    "#For particular row - use axis = 1 and similary for column use axis = 0\n",
    "print(\"Max element is: \", arr.max(axis = 1))\n",
    "print(\"Min element is: \", arr.min(axis = 1))\n",
    "print(\"Sum of elements is: \", arr.sum(axis = 1))\n"
   ]
  },
  {
   "cell_type": "code",
   "execution_count": 49,
   "id": "7a8a5ea9",
   "metadata": {},
   "outputs": [
    {
     "data": {
      "text/plain": [
       "array([[4, 5, 1, 2, 2],\n",
       "       [5, 2, 9, 3, 5],\n",
       "       [3, 6, 7, 3, 6]])"
      ]
     },
     "execution_count": 49,
     "metadata": {},
     "output_type": "execute_result"
    }
   ],
   "source": [
    "#18 - seed function- used to generate pseudorandom numbers (i.e the numbers which is not completely random, we can determine it)\n",
    "#after we define seed number, then the number generated will be same throughtout, it won't change as it was changing while creating normal random numbers\n",
    "np.random.seed(6)\n",
    "np.random.randint(1,10,(3,5))"
   ]
  },
  {
   "cell_type": "code",
   "execution_count": 55,
   "id": "2af867ad",
   "metadata": {},
   "outputs": [
    {
     "name": "stdout",
     "output_type": "stream",
     "text": [
      "[[4 5 1 2 2]\n",
      " [5 2 9 3 5]\n",
      " [3 6 7 3 6]]\n",
      "Sorted array is: \n",
      "[[1 2 2 4 5]\n",
      " [2 3 5 5 9]\n",
      " [3 3 6 6 7]]\n",
      "Sorted columnwise: \n",
      "[[1 2 2 4 5]\n",
      " [2 3 5 5 7]\n",
      " [3 3 6 6 9]]\n",
      "Sorted rowwise: \n",
      "[[1 2 2 4 5]\n",
      " [2 3 5 5 7]\n",
      " [3 3 6 6 9]]\n"
     ]
    }
   ],
   "source": [
    "#19 - sorting function\n",
    "np.random.seed(6)\n",
    "arr = np.random.randint(1,10,(3,5))\n",
    "print(arr)\n",
    "#normal sort\n",
    "print(\"Sorted array is: \")\n",
    "arr = np.sort(arr)\n",
    "print(arr)\n",
    "#sort column wise\n",
    "print(\"Sorted columnwise: \")\n",
    "arr = np.sort(arr, axis = 0)\n",
    "print(arr)\n",
    "print(\"Sorted rowwise: \")\n",
    "arr = np.sort(arr, axis = 1)\n",
    "print(arr)"
   ]
  },
  {
   "cell_type": "code",
   "execution_count": 59,
   "id": "bd21587a",
   "metadata": {},
   "outputs": [
    {
     "name": "stdout",
     "output_type": "stream",
     "text": [
      "[[9 4 9 9 1]\n",
      " [6 4 6 8 7]\n",
      " [1 5 8 9 2]]\n",
      "[[10  5 10 10  2]\n",
      " [ 7  5  7  9  8]\n",
      " [ 2  6  9 10  3]]\n",
      "[[8 3 8 8 0]\n",
      " [5 3 5 7 6]\n",
      " [0 4 7 8 1]]\n",
      "[[9 4 9 9 1]\n",
      " [6 4 6 8 7]\n",
      " [1 5 8 9 2]]\n",
      "[[4.5 2.  4.5 4.5 0.5]\n",
      " [3.  2.  3.  4.  3.5]\n",
      " [0.5 2.5 4.  4.5 1. ]]\n",
      "[[4 2 4 4 0]\n",
      " [3 2 3 4 3]\n",
      " [0 2 4 4 1]]\n"
     ]
    }
   ],
   "source": [
    "#20- Mathematical operations\n",
    "np.random.seed(3)\n",
    "arr = np.random.randint(1,10,(3,5))\n",
    "print(arr)\n",
    "#Addition\n",
    "print(arr + 1)\n",
    "#Subtract\n",
    "print(arr - 1)\n",
    "#Multiply\n",
    "print(arr * 1)\n",
    "#Divide\n",
    "print(arr / 2)\n",
    "#floor division\n",
    "print(arr //2)"
   ]
  },
  {
   "cell_type": "code",
   "execution_count": 61,
   "id": "fad74bd6",
   "metadata": {},
   "outputs": [
    {
     "name": "stdout",
     "output_type": "stream",
     "text": [
      "[[2 1]\n",
      " [3 2]]\n",
      "[[4 2]\n",
      " [5 2]]\n",
      "[[13  6]\n",
      " [22 10]]\n"
     ]
    }
   ],
   "source": [
    "#Matrix multiplication\n",
    "arr1 = np.random.randint(1,5,(2,2))\n",
    "arr2 = np.random.randint(2,7,(2,2))\n",
    "print(arr1)\n",
    "print(arr2)\n",
    "#Multiplication is done using dot operator\n",
    "print(arr1.dot(arr2))"
   ]
  },
  {
   "cell_type": "code",
   "execution_count": 62,
   "id": "ec937b10",
   "metadata": {},
   "outputs": [
    {
     "name": "stdout",
     "output_type": "stream",
     "text": [
      "[[4 2]\n",
      " [4 4]]\n",
      "[[16  4]\n",
      " [16 16]]\n"
     ]
    }
   ],
   "source": [
    "#power operation\n",
    "arr = np.random.randint(1,5,(2,2))\n",
    "print(arr)\n",
    "print(arr **2)"
   ]
  },
  {
   "cell_type": "code",
   "execution_count": 64,
   "id": "631b34e1",
   "metadata": {},
   "outputs": [
    {
     "name": "stdout",
     "output_type": "stream",
     "text": [
      "[6 5 8 7 1]\n",
      "[1 5 6 7 8]\n",
      "6.0\n"
     ]
    }
   ],
   "source": [
    "#21 - percentile function\n",
    "arr = np.random.randint(1,10,5)\n",
    "print(arr)\n",
    "\n",
    "#sorting the array\n",
    "arr = np.sort(arr)\n",
    "print(arr)\n",
    "\n",
    "#finding the percentile\n",
    "print(np.percentile(arr, 50))"
   ]
  },
  {
   "cell_type": "code",
   "execution_count": 65,
   "id": "6db582b4",
   "metadata": {},
   "outputs": [
    {
     "name": "stdout",
     "output_type": "stream",
     "text": [
      "[9 4 9 9 1 6 4 6 8 7]\n",
      "6.3\n",
      "6.410000000000001\n",
      "2.5317977802344327\n"
     ]
    }
   ],
   "source": [
    "#22 - mean, varience and standard deviation\n",
    "np.random.seed(3)\n",
    "arr = np.random.randint(1,10,10)\n",
    "print(arr)\n",
    "#Mean\n",
    "print(arr.mean())\n",
    "#varience\n",
    "print(arr.var())\n",
    "#standard deviation\n",
    "print(arr.std())"
   ]
  },
  {
   "cell_type": "code",
   "execution_count": 69,
   "id": "ece67c8b",
   "metadata": {},
   "outputs": [
    {
     "name": "stdout",
     "output_type": "stream",
     "text": [
      "[1 2 3 4 5 6 7 8 9]\n",
      "[False False False False False  True  True  True  True]\n",
      "[6 7 8 9]\n",
      "[ 1  2  3  4  5 11 11 11 11]\n"
     ]
    }
   ],
   "source": [
    "#23- Filtering an numpy array\n",
    "arr = np.arange(1,10)\n",
    "print(arr)\n",
    "\n",
    "#checking if the value in the array is greater than 5 or not\n",
    "print(arr > 5)\n",
    "\n",
    "#printing the number which are greater than 5\n",
    "print(arr[arr > 5])\n",
    "\n",
    "#we can also change the value in another value\n",
    "arr[arr > 5] = 11\n",
    "print(arr)"
   ]
  },
  {
   "cell_type": "code",
   "execution_count": 71,
   "id": "81776cbb",
   "metadata": {},
   "outputs": [
    {
     "name": "stdout",
     "output_type": "stream",
     "text": [
      "[[3 3]\n",
      " [2 4]\n",
      " [6 9]]\n",
      "Transpose of an array is:  [[3 2 6]\n",
      " [3 4 9]]\n"
     ]
    }
   ],
   "source": [
    "#24- Transpose of an array\n",
    "arr = np.random.randint(1,10,(3,2))\n",
    "print(arr)\n",
    "print(\"Transpose of an array is: \", arr.T)"
   ]
  },
  {
   "cell_type": "code",
   "execution_count": null,
   "id": "69563afa",
   "metadata": {},
   "outputs": [],
   "source": [
    "#25- where function - is used to replace specific place where the condition statisfy\n",
    "arr = np.random.randint(1,100, 10)\n",
    "print(arr)\n",
    "#replacing even numbers with 100\n",
    "print(np.where(arr%2 == 0, 100, arr))"
   ]
  },
  {
   "cell_type": "code",
   "execution_count": 73,
   "id": "52ea4ff6",
   "metadata": {},
   "outputs": [
    {
     "ename": "SyntaxError",
     "evalue": "invalid syntax (1276950957.py, line 2)",
     "output_type": "error",
     "traceback": [
      "\u001b[1;36m  Cell \u001b[1;32mIn[73], line 2\u001b[1;36m\u001b[0m\n\u001b[1;33m    <img src='flower.jpg' >\u001b[0m\n\u001b[1;37m    ^\u001b[0m\n\u001b[1;31mSyntaxError\u001b[0m\u001b[1;31m:\u001b[0m invalid syntax\n"
     ]
    }
   ],
   "source": [
    "#26- Turning pics into numpy array\n",
    "<img src='flower.jpg'>"
   ]
  },
  {
   "cell_type": "code",
   "execution_count": 74,
   "id": "7852e467",
   "metadata": {},
   "outputs": [],
   "source": [
    "from matplotlib.image import imread"
   ]
  },
  {
   "cell_type": "code",
   "execution_count": 75,
   "id": "2497f6ab",
   "metadata": {},
   "outputs": [
    {
     "data": {
      "text/plain": [
       "(2736, 3648, 3)"
      ]
     },
     "execution_count": 75,
     "metadata": {},
     "output_type": "execute_result"
    }
   ],
   "source": [
    "img = imread('flower.jpg')\n",
    "img.shape"
   ]
  }
 ],
 "metadata": {
  "kernelspec": {
   "display_name": "Python 3 (ipykernel)",
   "language": "python",
   "name": "python3"
  },
  "language_info": {
   "codemirror_mode": {
    "name": "ipython",
    "version": 3
   },
   "file_extension": ".py",
   "mimetype": "text/x-python",
   "name": "python",
   "nbconvert_exporter": "python",
   "pygments_lexer": "ipython3",
   "version": "3.10.9"
  }
 },
 "nbformat": 4,
 "nbformat_minor": 5
}
