{
 "cells": [
  {
   "cell_type": "code",
   "execution_count": null,
   "id": "8fee5336",
   "metadata": {},
   "outputs": [],
   "source": []
  },
  {
   "cell_type": "code",
   "execution_count": 5,
   "id": "98e83c5b",
   "metadata": {},
   "outputs": [
    {
     "name": "stdout",
     "output_type": "stream",
     "text": [
      "--------Here is the MENU-----\n",
      "\n",
      "101 : Chicken Wings \t| 500 \t| -1\n",
      "102 : Chicken Thigs \t| 600 \t| 0\n",
      "103 : Whole Chicken \t| 1000 \t| 97\n",
      "\n",
      "---------------------------\n",
      "Enter your Name: Aastha\n",
      "Enter your Phone-Number: 2345\n",
      "Enter Product ID: 103\n",
      "Enter Product Quantity: 2\n",
      "\n",
      "\n",
      "-----------------------------\n",
      "Name:  Whole Chicken\n",
      "Price per Packet:  1000 Rs\n",
      "Quantity:  2\n",
      "\n",
      "\n",
      "-------------------------------\n",
      "Total Billing Amount:  2000 Rs\n",
      "\n",
      "\n",
      "Thanks for the order\n"
     ]
    }
   ],
   "source": [
    "import json\n",
    "import time\n",
    "\n",
    "sales_details = ' '\n",
    "\n",
    "#Loading record details from records file\n",
    "#opening the file\n",
    "fd = open('Records.json', 'r')\n",
    "js = fd.read()\n",
    "fd.close()\n",
    "\n",
    "#loading using loads function\n",
    "record = json.loads(js) #loads convert string into dictionary\n",
    "\n",
    "print(\"--------Here is the MENU-----\\n\")\n",
    "#Going through each key and value\n",
    "for key in record.keys():\n",
    "    print(key ,\":\",  record[key]['Name'], \"\\t|\", record[key]['Price'], \"\\t|\", record[key]['Quantity'])\n",
    "print(\"\\n---------------------------\")\n",
    "\n",
    "userName = str(input(\"Enter your Name: \"))\n",
    "phoneNumber = str(input(\"Enter your Phone-Number: \"))\n",
    "productID = str(input(\"Enter Product ID: \"))\n",
    "productQuantity = int(input(\"Enter Product Quantity: \"))\n",
    "\n",
    "#checking if there is enough quantity or not\n",
    "if(record[productID]['Quantity']) >= productQuantity:\n",
    "    \n",
    "    #updating product quantity\n",
    "    record[productID]['Quantity'] = record[productID]['Quantity'] - productQuantity\n",
    "\n",
    "    print(\"\\n\")\n",
    "    print(\"-----------------------------\")\n",
    "    print(\"Name: \", record[productID][\"Name\"])\n",
    "    print(\"Price per Packet: \" , record[productID][\"Price\"],\"Rs\")\n",
    "    print(\"Quantity: \", productQuantity) #user entered product Quantity\n",
    "    print(\"\\n\")\n",
    "    print(\"-------------------------------\")\n",
    "    print(\"Total Billing Amount: \", productQuantity * record[productID][\"Price\"], \"Rs\")\n",
    "    \n",
    "    sales_details = userName + \",\" + phoneNumber + \",\" + productID + \",\" + record[productID]['Name'] + \",\" + str(productQuantity) + \",\" +  str(record[productID]['Price']) + \",\" + str(productQuantity * record[productID]['Price']) + \",\" + time.ctime() + \",\" + \"\\n\" \n",
    "\n",
    "else:\n",
    "    print(\"Sorry we are not having enough Quantity\")\n",
    "    print(\"We are only having\" + str(record[productID]['Quantity']) +\" quantity.\")\n",
    "    print(\"-----------------------------\")\n",
    "    ch = str(input(\"Press Y/y to purchase\"))\n",
    "    \n",
    "    if(ch == \"Y\" or ch == \"y\"):\n",
    "        print(\"\\n\")\n",
    "        print(\"-----------------------------\")\n",
    "        print(\"Name: \", record[productID][\"Name\"])\n",
    "        print(\"Price per Packet: \" , record[productID][\"Price\"],\"Rs\")\n",
    "        print(\"Quantity: \", record[productID][\"Quantity\"]) #Available product Quantity\n",
    "        print(\"\\n\")\n",
    "        print(\"-------------------------------\")\n",
    "        print(\"Total Billing Amount: \", record[productID]['Quantity'] * record[productID][\"Price\"], \"Rs\")\n",
    "        \n",
    "        record[productID]['Quantity'] = 0 #since we are giving whole available item\n",
    "        \n",
    "        sales_details = userName + \",\" + phoneNumber + \",\" + productID + \",\" + record[productID]['Name'] + \",\" + str(record[productID]['Quantity']) + \",\" +  str(record[productID]['Price']) + \",\" + str(record[productID]['Quantity'] * record[productID]['Price']) + \",\" + time.ctime() + \",\" + \"\\n\" \n",
    "    else:\n",
    "        print(\"Thanks\")\n",
    "    \n",
    "\n",
    "#saving it with the help of json\n",
    "js = json.dumps(record) #dumps convert dictionary to string\n",
    "\n",
    "#saving it in file\n",
    "fd = open(\"Records.json\", \"w\")\n",
    "fd.write(js)\n",
    "fd.close()  \n",
    "\n",
    "#saving details in sales file\n",
    "fd = open(\"jsonSales.txt\", \"a\")\n",
    "fd.write(sales_details)\n",
    "fd.close()\n",
    "\n",
    "print(\"\\n\")\n",
    "print(\"Thanks for the order\")"
   ]
  },
  {
   "cell_type": "code",
   "execution_count": 4,
   "id": "d8ea3de5",
   "metadata": {},
   "outputs": [
    {
     "data": {
      "text/plain": [
       "'pasta,234,103,Whole Chicken,1,1000,1000,Fri Jul  7 17:24:51 2023,\\n'"
      ]
     },
     "execution_count": 4,
     "metadata": {},
     "output_type": "execute_result"
    }
   ],
   "source": [
    "sales_details"
   ]
  },
  {
   "cell_type": "code",
   "execution_count": null,
   "id": "eb8e8525",
   "metadata": {},
   "outputs": [],
   "source": []
  }
 ],
 "metadata": {
  "kernelspec": {
   "display_name": "Python 3 (ipykernel)",
   "language": "python",
   "name": "python3"
  },
  "language_info": {
   "codemirror_mode": {
    "name": "ipython",
    "version": 3
   },
   "file_extension": ".py",
   "mimetype": "text/x-python",
   "name": "python",
   "nbconvert_exporter": "python",
   "pygments_lexer": "ipython3",
   "version": "3.10.9"
  }
 },
 "nbformat": 4,
 "nbformat_minor": 5
}
